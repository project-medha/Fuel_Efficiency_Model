{
 "cells": [
  {
   "cell_type": "code",
   "execution_count": 1,
   "id": "e5368d32",
   "metadata": {},
   "outputs": [],
   "source": [
    "import numpy as np \n",
    "import pandas as pd"
   ]
  },
  {
   "cell_type": "code",
   "execution_count": 2,
   "id": "05664fa4",
   "metadata": {
    "scrolled": true
   },
   "outputs": [
    {
     "data": {
      "text/html": [
       "<div>\n",
       "<style scoped>\n",
       "    .dataframe tbody tr th:only-of-type {\n",
       "        vertical-align: middle;\n",
       "    }\n",
       "\n",
       "    .dataframe tbody tr th {\n",
       "        vertical-align: top;\n",
       "    }\n",
       "\n",
       "    .dataframe thead th {\n",
       "        text-align: right;\n",
       "    }\n",
       "</style>\n",
       "<table border=\"1\" class=\"dataframe\">\n",
       "  <thead>\n",
       "    <tr style=\"text-align: right;\">\n",
       "      <th></th>\n",
       "      <th>Mfr Name</th>\n",
       "      <th>Carline</th>\n",
       "      <th>Eng Displ</th>\n",
       "      <th>Cylinders</th>\n",
       "      <th>Transmission</th>\n",
       "      <th>CityMPG</th>\n",
       "      <th>HwyMPG</th>\n",
       "      <th>CombMPG</th>\n",
       "      <th># Gears</th>\n",
       "    </tr>\n",
       "  </thead>\n",
       "  <tbody>\n",
       "    <tr>\n",
       "      <th>0</th>\n",
       "      <td>aston martin</td>\n",
       "      <td>Vantage V8</td>\n",
       "      <td>4.0</td>\n",
       "      <td>8</td>\n",
       "      <td>Auto(S8)</td>\n",
       "      <td>18</td>\n",
       "      <td>25</td>\n",
       "      <td>21</td>\n",
       "      <td>8</td>\n",
       "    </tr>\n",
       "    <tr>\n",
       "      <th>1</th>\n",
       "      <td>Volkswagen Group of</td>\n",
       "      <td>Chiron</td>\n",
       "      <td>8.0</td>\n",
       "      <td>16</td>\n",
       "      <td>Auto(AM-S7)</td>\n",
       "      <td>9</td>\n",
       "      <td>14</td>\n",
       "      <td>11</td>\n",
       "      <td>7</td>\n",
       "    </tr>\n",
       "    <tr>\n",
       "      <th>2</th>\n",
       "      <td>General Motors</td>\n",
       "      <td>CORVETTE</td>\n",
       "      <td>6.2</td>\n",
       "      <td>8</td>\n",
       "      <td>Auto(S8)</td>\n",
       "      <td>12</td>\n",
       "      <td>20</td>\n",
       "      <td>15</td>\n",
       "      <td>8</td>\n",
       "    </tr>\n",
       "    <tr>\n",
       "      <th>3</th>\n",
       "      <td>General Motors</td>\n",
       "      <td>CORVETTE</td>\n",
       "      <td>6.2</td>\n",
       "      <td>8</td>\n",
       "      <td>Auto(S8)</td>\n",
       "      <td>15</td>\n",
       "      <td>25</td>\n",
       "      <td>18</td>\n",
       "      <td>8</td>\n",
       "    </tr>\n",
       "    <tr>\n",
       "      <th>4</th>\n",
       "      <td>General Motors</td>\n",
       "      <td>CORVETTE</td>\n",
       "      <td>6.2</td>\n",
       "      <td>8</td>\n",
       "      <td>Auto(S8)</td>\n",
       "      <td>14</td>\n",
       "      <td>23</td>\n",
       "      <td>17</td>\n",
       "      <td>8</td>\n",
       "    </tr>\n",
       "  </tbody>\n",
       "</table>\n",
       "</div>"
      ],
      "text/plain": [
       "              Mfr Name     Carline  Eng Displ  Cylinders Transmission  \\\n",
       "0         aston martin  Vantage V8        4.0          8     Auto(S8)   \n",
       "1  Volkswagen Group of      Chiron        8.0         16  Auto(AM-S7)   \n",
       "2       General Motors    CORVETTE        6.2          8     Auto(S8)   \n",
       "3       General Motors    CORVETTE        6.2          8     Auto(S8)   \n",
       "4       General Motors    CORVETTE        6.2          8     Auto(S8)   \n",
       "\n",
       "   CityMPG  HwyMPG  CombMPG  # Gears  \n",
       "0       18      25       21        8  \n",
       "1        9      14       11        7  \n",
       "2       12      20       15        8  \n",
       "3       15      25       18        8  \n",
       "4       14      23       17        8  "
      ]
     },
     "execution_count": 2,
     "metadata": {},
     "output_type": "execute_result"
    }
   ],
   "source": [
    "data=pd.read_csv(\"FuelEfficiency.csv\")\n",
    "data.head()"
   ]
  },
  {
   "cell_type": "code",
   "execution_count": 3,
   "id": "5d6fca9d",
   "metadata": {},
   "outputs": [
    {
     "data": {
      "text/html": [
       "<div>\n",
       "<style scoped>\n",
       "    .dataframe tbody tr th:only-of-type {\n",
       "        vertical-align: middle;\n",
       "    }\n",
       "\n",
       "    .dataframe tbody tr th {\n",
       "        vertical-align: top;\n",
       "    }\n",
       "\n",
       "    .dataframe thead th {\n",
       "        text-align: right;\n",
       "    }\n",
       "</style>\n",
       "<table border=\"1\" class=\"dataframe\">\n",
       "  <thead>\n",
       "    <tr style=\"text-align: right;\">\n",
       "      <th></th>\n",
       "      <th>Eng Displ</th>\n",
       "      <th>Cylinders</th>\n",
       "      <th>CityMPG</th>\n",
       "      <th>HwyMPG</th>\n",
       "      <th>CombMPG</th>\n",
       "      <th># Gears</th>\n",
       "    </tr>\n",
       "  </thead>\n",
       "  <tbody>\n",
       "    <tr>\n",
       "      <th>count</th>\n",
       "      <td>718.000000</td>\n",
       "      <td>718.000000</td>\n",
       "      <td>718.000000</td>\n",
       "      <td>718.000000</td>\n",
       "      <td>718.000000</td>\n",
       "      <td>718.000000</td>\n",
       "    </tr>\n",
       "    <tr>\n",
       "      <th>mean</th>\n",
       "      <td>3.092061</td>\n",
       "      <td>5.493036</td>\n",
       "      <td>20.442897</td>\n",
       "      <td>27.760446</td>\n",
       "      <td>23.139276</td>\n",
       "      <td>7.147632</td>\n",
       "    </tr>\n",
       "    <tr>\n",
       "      <th>std</th>\n",
       "      <td>1.344572</td>\n",
       "      <td>1.752251</td>\n",
       "      <td>5.298504</td>\n",
       "      <td>5.607924</td>\n",
       "      <td>5.368443</td>\n",
       "      <td>1.507929</td>\n",
       "    </tr>\n",
       "    <tr>\n",
       "      <th>min</th>\n",
       "      <td>1.400000</td>\n",
       "      <td>3.000000</td>\n",
       "      <td>9.000000</td>\n",
       "      <td>14.000000</td>\n",
       "      <td>11.000000</td>\n",
       "      <td>1.000000</td>\n",
       "    </tr>\n",
       "    <tr>\n",
       "      <th>25%</th>\n",
       "      <td>2.000000</td>\n",
       "      <td>4.000000</td>\n",
       "      <td>17.000000</td>\n",
       "      <td>24.000000</td>\n",
       "      <td>19.000000</td>\n",
       "      <td>6.000000</td>\n",
       "    </tr>\n",
       "    <tr>\n",
       "      <th>50%</th>\n",
       "      <td>3.000000</td>\n",
       "      <td>6.000000</td>\n",
       "      <td>20.000000</td>\n",
       "      <td>27.000000</td>\n",
       "      <td>23.000000</td>\n",
       "      <td>7.000000</td>\n",
       "    </tr>\n",
       "    <tr>\n",
       "      <th>75%</th>\n",
       "      <td>3.600000</td>\n",
       "      <td>6.000000</td>\n",
       "      <td>23.000000</td>\n",
       "      <td>31.000000</td>\n",
       "      <td>26.000000</td>\n",
       "      <td>8.000000</td>\n",
       "    </tr>\n",
       "    <tr>\n",
       "      <th>max</th>\n",
       "      <td>8.000000</td>\n",
       "      <td>16.000000</td>\n",
       "      <td>57.000000</td>\n",
       "      <td>59.000000</td>\n",
       "      <td>58.000000</td>\n",
       "      <td>10.000000</td>\n",
       "    </tr>\n",
       "  </tbody>\n",
       "</table>\n",
       "</div>"
      ],
      "text/plain": [
       "        Eng Displ   Cylinders     CityMPG      HwyMPG     CombMPG     # Gears\n",
       "count  718.000000  718.000000  718.000000  718.000000  718.000000  718.000000\n",
       "mean     3.092061    5.493036   20.442897   27.760446   23.139276    7.147632\n",
       "std      1.344572    1.752251    5.298504    5.607924    5.368443    1.507929\n",
       "min      1.400000    3.000000    9.000000   14.000000   11.000000    1.000000\n",
       "25%      2.000000    4.000000   17.000000   24.000000   19.000000    6.000000\n",
       "50%      3.000000    6.000000   20.000000   27.000000   23.000000    7.000000\n",
       "75%      3.600000    6.000000   23.000000   31.000000   26.000000    8.000000\n",
       "max      8.000000   16.000000   57.000000   59.000000   58.000000   10.000000"
      ]
     },
     "execution_count": 3,
     "metadata": {},
     "output_type": "execute_result"
    }
   ],
   "source": [
    "data.describe()"
   ]
  },
  {
   "cell_type": "code",
   "execution_count": 4,
   "id": "9737b337",
   "metadata": {},
   "outputs": [],
   "source": [
    "meanMPG=data['CombMPG'].mean()\n",
    "data['FuelEfficient']=(data['CombMPG']>meanMPG).astype(int)"
   ]
  },
  {
   "cell_type": "code",
   "execution_count": 5,
   "id": "e034f887",
   "metadata": {},
   "outputs": [
    {
     "data": {
      "text/plain": [
       "0    0\n",
       "1    0\n",
       "2    0\n",
       "3    0\n",
       "4    0\n",
       "Name: FuelEfficient, dtype: int32"
      ]
     },
     "execution_count": 5,
     "metadata": {},
     "output_type": "execute_result"
    }
   ],
   "source": [
    "data['FuelEfficient'].head()"
   ]
  },
  {
   "cell_type": "code",
   "execution_count": 6,
   "id": "a15349d2",
   "metadata": {},
   "outputs": [
    {
     "name": "stdout",
     "output_type": "stream",
     "text": [
      "{'Auto', 'Manual'}\n"
     ]
    }
   ],
   "source": [
    "all_labels = set()\n",
    "for labels_str in data['Transmission']:\n",
    "    labels1 = labels_str.split('(')[0]\n",
    "    data['TransClass']=labels1\n",
    "    all_labels.add(labels1)\n",
    "print(all_labels)\n",
    "    \n"
   ]
  },
  {
   "cell_type": "code",
   "execution_count": 7,
   "id": "78792a8e",
   "metadata": {},
   "outputs": [],
   "source": [
    "d1={'Manual':0,'Auto':1}\n",
    "data['TransClass']=data['TransClass'].map(d1)\n"
   ]
  },
  {
   "cell_type": "code",
   "execution_count": 8,
   "id": "5fbd55f9",
   "metadata": {},
   "outputs": [],
   "source": [
    "Ed_bins=np.arange(1,11,2)\n",
    "Ed_bins_labels=list(range(len(Ed_bins)-1))\n",
    "data['EngDisp_bins']=pd.cut(data['Eng Displ'],bins=Ed_bins,labels=Ed_bins_labels,right=False)"
   ]
  },
  {
   "cell_type": "code",
   "execution_count": 9,
   "id": "ef915bdd",
   "metadata": {},
   "outputs": [],
   "source": [
    "Cylin_bins=np.arange(0,24,4)\n",
    "Cylin_bins_labels=list(range(len(Cylin_bins)-1))\n",
    "data['Cylin_bins']=pd.cut(data['Cylinders'],bins=Cylin_bins,labels=Cylin_bins_labels,right=False)"
   ]
  },
  {
   "cell_type": "code",
   "execution_count": 10,
   "id": "778f2338",
   "metadata": {},
   "outputs": [],
   "source": [
    "Gear_bins=np.arange(0,15,3)\n",
    "Gear_bins_labels=list(range(len(Gear_bins)-1))\n",
    "data['Gear_bins']=pd.cut(data['# Gears'],bins=Gear_bins,labels=Gear_bins_labels,right=False)"
   ]
  },
  {
   "cell_type": "code",
   "execution_count": 11,
   "id": "7a020816",
   "metadata": {},
   "outputs": [],
   "source": [
    "category_cols=['Gear_bins','EngDisp_bins','Cylin_bins']\n",
    "data[category_cols]=data[category_cols].astype(int)\n",
    "#print(data.dtypes)"
   ]
  },
  {
   "cell_type": "code",
   "execution_count": 12,
   "id": "239b35a4",
   "metadata": {},
   "outputs": [
    {
     "data": {
      "text/plain": [
       "Mfr Name         0\n",
       "Carline          0\n",
       "Eng Displ        0\n",
       "Cylinders        0\n",
       "Transmission     0\n",
       "CityMPG          0\n",
       "HwyMPG           0\n",
       "CombMPG          0\n",
       "# Gears          0\n",
       "FuelEfficient    0\n",
       "TransClass       0\n",
       "EngDisp_bins     0\n",
       "Cylin_bins       0\n",
       "Gear_bins        0\n",
       "dtype: int64"
      ]
     },
     "execution_count": 12,
     "metadata": {},
     "output_type": "execute_result"
    }
   ],
   "source": [
    "data.isnull().sum()"
   ]
  },
  {
   "cell_type": "code",
   "execution_count": 13,
   "id": "f0a1fafb",
   "metadata": {},
   "outputs": [],
   "source": [
    "features=['Gear_bins','EngDisp_bins','Cylin_bins','TransClass']\n",
    "X=np.array(data[features])\n",
    "y=np.array(data['FuelEfficient'])"
   ]
  },
  {
   "cell_type": "code",
   "execution_count": 59,
   "id": "b911c54b",
   "metadata": {},
   "outputs": [],
   "source": [
    "from sklearn.model_selection import train_test_split\n",
    "x_train,x_test,y_train,y_test=train_test_split(X,y,test_size=0.3,random_state=42)"
   ]
  },
  {
   "cell_type": "code",
   "execution_count": 60,
   "id": "8083b7b2",
   "metadata": {},
   "outputs": [],
   "source": [
    "import xgboost as xgb"
   ]
  },
  {
   "cell_type": "code",
   "execution_count": 61,
   "id": "7a98a0de",
   "metadata": {},
   "outputs": [],
   "source": [
    "train = xgb.DMatrix(x_train,label=y_train)\n",
    "test = xgb.DMatrix(x_test,label=y_test)"
   ]
  },
  {
   "cell_type": "code",
   "execution_count": 66,
   "id": "fda07f67",
   "metadata": {},
   "outputs": [],
   "source": [
    "param = {\n",
    "    'max_depth': 6,\n",
    "    'eta': 0.5,\n",
    "    'objective': 'multi:softmax',\n",
    "    'num_class': 2} \n",
    "epochs = 15 \n",
    "model = xgb.train(param, train, epochs)"
   ]
  },
  {
   "cell_type": "code",
   "execution_count": 67,
   "id": "d4664f12",
   "metadata": {},
   "outputs": [],
   "source": [
    "pred = model.predict(test)"
   ]
  },
  {
   "cell_type": "code",
   "execution_count": 68,
   "id": "acc22cb2",
   "metadata": {},
   "outputs": [],
   "source": [
    "from sklearn.metrics import accuracy_score\n"
   ]
  },
  {
   "cell_type": "code",
   "execution_count": 69,
   "id": "01e2f578",
   "metadata": {},
   "outputs": [
    {
     "data": {
      "text/plain": [
       "0.8703703703703703"
      ]
     },
     "execution_count": 69,
     "metadata": {},
     "output_type": "execute_result"
    }
   ],
   "source": [
    "accuracy_score(y_test, pred)"
   ]
  }
 ],
 "metadata": {
  "kernelspec": {
   "display_name": "Python 3 (ipykernel)",
   "language": "python",
   "name": "python3"
  },
  "language_info": {
   "codemirror_mode": {
    "name": "ipython",
    "version": 3
   },
   "file_extension": ".py",
   "mimetype": "text/x-python",
   "name": "python",
   "nbconvert_exporter": "python",
   "pygments_lexer": "ipython3",
   "version": "3.10.9"
  }
 },
 "nbformat": 4,
 "nbformat_minor": 5
}
